{
 "cells": [
  {
   "cell_type": "code",
   "execution_count": 2,
   "id": "2706e9b8-b469-4add-ad61-4d74ab6efa47",
   "metadata": {},
   "outputs": [
    {
     "name": "stdout",
     "output_type": "stream",
     "text": [
      "Accuracy: 0.8695652173913043\n",
      "Perceptron Confusion Matrix:\n",
      " [[14  3]\n",
      " [ 0  6]]\n"
     ]
    }
   ],
   "source": [
    "#Import required libraries\n",
    "from sklearn.datasets import load_breast_cancer\n",
    "from sklearn.linear_model import Perceptron\n",
    "from sklearn.model_selection import train_test_split\n",
    "from sklearn.metrics import accuracy_score\n",
    "from sklearn.metrics import confusion_matrix\n",
    "import pandas as pd\n",
    "#Load the breast_cancer dataset\n",
    "breast_cancer = load_breast_cancer()\n",
    "#View the breast_cancer data keys\n",
    "breast_cancer.keys()\n",
    "#it is a key of dictionary breast_cancer\n",
    "breast_cancer.target_names\n",
    "##Convert data and target into a data frame.\n",
    "# 100 + MatNo mod 50\n",
    "dataCount = 100 + (62 % 50)\n",
    "#Extract the First Features\n",
    "X = pd.DataFrame(data = breast_cancer.data[:dataCount,:], columns = breast_cancer.feature_names)\n",
    "X.head(dataCount) #Inspect the features\n",
    "#Target\n",
    "y = pd.DataFrame(data=breast_cancer.target[:dataCount], columns = ['breast_cancerType'])\n",
    "y.head(dataCount)\n",
    "# Split the dataset into training and testing sets\n",
    "X_train, X_test, y_train, y_test = train_test_split(X, y, test_size=0.2, random_state=42)\n",
    "# Create a Perceptron classifier\n",
    "mdlPercept = Perceptron()\n",
    "# Train the classifier\n",
    "mdlPercept.fit(X_train, y_train.values.ravel()) # Convert y_train to 1D array\n",
    "# Make predictions on the test set\n",
    "y_pred = mdlPercept.predict(X_test)\n",
    "# Calculate accuracy of the classifier\n",
    "accuracy = accuracy_score(y_test, y_pred)\n",
    "print(\"Accuracy:\", accuracy)\n",
    "#Generate the Confusion Matrix\n",
    "print(\"Perceptron Confusion Matrix:\\n\",confusion_matrix(y_test, y_pred))"
   ]
  },
  {
   "cell_type": "code",
   "execution_count": null,
   "id": "cdb36dc8-7300-431b-b7b8-13f83da6dee4",
   "metadata": {},
   "outputs": [],
   "source": [
    "\n",
    "\n",
    "\n",
    "\n",
    "\n"
   ]
  }
 ],
 "metadata": {
  "kernelspec": {
   "display_name": "Python 3 (ipykernel)",
   "language": "python",
   "name": "python3"
  },
  "language_info": {
   "codemirror_mode": {
    "name": "ipython",
    "version": 3
   },
   "file_extension": ".py",
   "mimetype": "text/x-python",
   "name": "python",
   "nbconvert_exporter": "python",
   "pygments_lexer": "ipython3",
   "version": "3.11.7"
  }
 },
 "nbformat": 4,
 "nbformat_minor": 5
}
