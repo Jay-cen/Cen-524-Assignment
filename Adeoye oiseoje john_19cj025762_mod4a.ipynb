{
 "cells": [
  {
   "cell_type": "code",
   "execution_count": 21,
   "id": "d22bab16-4b51-4a8b-a017-65be1d9247bf",
   "metadata": {},
   "outputs": [],
   "source": [
    "import pandas as pd\n",
    "import tensorflow as tf\n",
    "from sklearn.metrics import confusion_matrix\n",
    "import numpy as np\n",
    "import matplotlib.pyplot as plt\n",
    "from sklearn.model_selection import train_test_split\n",
    "from sklearn.preprocessing import StandardScaler"
   ]
  },
  {
   "cell_type": "code",
   "execution_count": 24,
   "id": "b05fae2a-e902-483d-bbcf-4c0c2f1b1d75",
   "metadata": {},
   "outputs": [
    {
     "data": {
      "text/html": [
       "<div>\n",
       "<style scoped>\n",
       "    .dataframe tbody tr th:only-of-type {\n",
       "        vertical-align: middle;\n",
       "    }\n",
       "\n",
       "    .dataframe tbody tr th {\n",
       "        vertical-align: top;\n",
       "    }\n",
       "\n",
       "    .dataframe thead th {\n",
       "        text-align: right;\n",
       "    }\n",
       "</style>\n",
       "<table border=\"1\" class=\"dataframe\">\n",
       "  <thead>\n",
       "    <tr style=\"text-align: right;\">\n",
       "      <th></th>\n",
       "      <th>cap-diameter</th>\n",
       "      <th>cap-shape</th>\n",
       "      <th>gill-attachment</th>\n",
       "      <th>gill-color</th>\n",
       "      <th>stem-height</th>\n",
       "      <th>stem-width</th>\n",
       "      <th>stem-color</th>\n",
       "      <th>season</th>\n",
       "      <th>class</th>\n",
       "    </tr>\n",
       "  </thead>\n",
       "  <tbody>\n",
       "    <tr>\n",
       "      <th>0</th>\n",
       "      <td>1372</td>\n",
       "      <td>2</td>\n",
       "      <td>2</td>\n",
       "      <td>10</td>\n",
       "      <td>3.807467</td>\n",
       "      <td>1545</td>\n",
       "      <td>11</td>\n",
       "      <td>1.804273</td>\n",
       "      <td>1</td>\n",
       "    </tr>\n",
       "    <tr>\n",
       "      <th>1</th>\n",
       "      <td>1461</td>\n",
       "      <td>2</td>\n",
       "      <td>2</td>\n",
       "      <td>10</td>\n",
       "      <td>3.807467</td>\n",
       "      <td>1557</td>\n",
       "      <td>11</td>\n",
       "      <td>1.804273</td>\n",
       "      <td>1</td>\n",
       "    </tr>\n",
       "    <tr>\n",
       "      <th>2</th>\n",
       "      <td>1371</td>\n",
       "      <td>2</td>\n",
       "      <td>2</td>\n",
       "      <td>10</td>\n",
       "      <td>3.612496</td>\n",
       "      <td>1566</td>\n",
       "      <td>11</td>\n",
       "      <td>1.804273</td>\n",
       "      <td>1</td>\n",
       "    </tr>\n",
       "    <tr>\n",
       "      <th>3</th>\n",
       "      <td>1261</td>\n",
       "      <td>6</td>\n",
       "      <td>2</td>\n",
       "      <td>10</td>\n",
       "      <td>3.787572</td>\n",
       "      <td>1566</td>\n",
       "      <td>11</td>\n",
       "      <td>1.804273</td>\n",
       "      <td>1</td>\n",
       "    </tr>\n",
       "    <tr>\n",
       "      <th>4</th>\n",
       "      <td>1305</td>\n",
       "      <td>6</td>\n",
       "      <td>2</td>\n",
       "      <td>10</td>\n",
       "      <td>3.711971</td>\n",
       "      <td>1464</td>\n",
       "      <td>11</td>\n",
       "      <td>0.943195</td>\n",
       "      <td>1</td>\n",
       "    </tr>\n",
       "    <tr>\n",
       "      <th>...</th>\n",
       "      <td>...</td>\n",
       "      <td>...</td>\n",
       "      <td>...</td>\n",
       "      <td>...</td>\n",
       "      <td>...</td>\n",
       "      <td>...</td>\n",
       "      <td>...</td>\n",
       "      <td>...</td>\n",
       "      <td>...</td>\n",
       "    </tr>\n",
       "    <tr>\n",
       "      <th>54030</th>\n",
       "      <td>73</td>\n",
       "      <td>5</td>\n",
       "      <td>3</td>\n",
       "      <td>2</td>\n",
       "      <td>0.887740</td>\n",
       "      <td>569</td>\n",
       "      <td>12</td>\n",
       "      <td>0.943195</td>\n",
       "      <td>1</td>\n",
       "    </tr>\n",
       "    <tr>\n",
       "      <th>54031</th>\n",
       "      <td>82</td>\n",
       "      <td>2</td>\n",
       "      <td>3</td>\n",
       "      <td>2</td>\n",
       "      <td>1.186164</td>\n",
       "      <td>490</td>\n",
       "      <td>12</td>\n",
       "      <td>0.943195</td>\n",
       "      <td>1</td>\n",
       "    </tr>\n",
       "    <tr>\n",
       "      <th>54032</th>\n",
       "      <td>82</td>\n",
       "      <td>5</td>\n",
       "      <td>3</td>\n",
       "      <td>2</td>\n",
       "      <td>0.915593</td>\n",
       "      <td>584</td>\n",
       "      <td>12</td>\n",
       "      <td>0.888450</td>\n",
       "      <td>1</td>\n",
       "    </tr>\n",
       "    <tr>\n",
       "      <th>54033</th>\n",
       "      <td>79</td>\n",
       "      <td>2</td>\n",
       "      <td>3</td>\n",
       "      <td>2</td>\n",
       "      <td>1.034963</td>\n",
       "      <td>491</td>\n",
       "      <td>12</td>\n",
       "      <td>0.888450</td>\n",
       "      <td>1</td>\n",
       "    </tr>\n",
       "    <tr>\n",
       "      <th>54034</th>\n",
       "      <td>72</td>\n",
       "      <td>5</td>\n",
       "      <td>3</td>\n",
       "      <td>2</td>\n",
       "      <td>1.158311</td>\n",
       "      <td>492</td>\n",
       "      <td>12</td>\n",
       "      <td>0.888450</td>\n",
       "      <td>1</td>\n",
       "    </tr>\n",
       "  </tbody>\n",
       "</table>\n",
       "<p>54035 rows × 9 columns</p>\n",
       "</div>"
      ],
      "text/plain": [
       "       cap-diameter  cap-shape  gill-attachment  gill-color  stem-height  \\\n",
       "0              1372          2                2          10     3.807467   \n",
       "1              1461          2                2          10     3.807467   \n",
       "2              1371          2                2          10     3.612496   \n",
       "3              1261          6                2          10     3.787572   \n",
       "4              1305          6                2          10     3.711971   \n",
       "...             ...        ...              ...         ...          ...   \n",
       "54030            73          5                3           2     0.887740   \n",
       "54031            82          2                3           2     1.186164   \n",
       "54032            82          5                3           2     0.915593   \n",
       "54033            79          2                3           2     1.034963   \n",
       "54034            72          5                3           2     1.158311   \n",
       "\n",
       "       stem-width  stem-color    season  class  \n",
       "0            1545          11  1.804273      1  \n",
       "1            1557          11  1.804273      1  \n",
       "2            1566          11  1.804273      1  \n",
       "3            1566          11  1.804273      1  \n",
       "4            1464          11  0.943195      1  \n",
       "...           ...         ...       ...    ...  \n",
       "54030         569          12  0.943195      1  \n",
       "54031         490          12  0.943195      1  \n",
       "54032         584          12  0.888450      1  \n",
       "54033         491          12  0.888450      1  \n",
       "54034         492          12  0.888450      1  \n",
       "\n",
       "[54035 rows x 9 columns]"
      ]
     },
     "execution_count": 24,
     "metadata": {},
     "output_type": "execute_result"
    }
   ],
   "source": [
    "data = pd.read_csv(\"mushroom_cleaned.csv\")\n",
    "data"
   ]
  },
  {
   "cell_type": "code",
   "execution_count": 27,
   "id": "f8eed883-57bc-4037-ad7a-a36438b250eb",
   "metadata": {},
   "outputs": [],
   "source": [
    "y = data[\"class\"].to_numpy()"
   ]
  },
  {
   "cell_type": "code",
   "execution_count": 28,
   "id": "ad9d0dcd-9e72-46c7-9115-497e5d8811d3",
   "metadata": {},
   "outputs": [],
   "source": [
    "X = data.iloc[:, :-1].to_numpy()"
   ]
  },
  {
   "cell_type": "code",
   "execution_count": 29,
   "id": "5e2db727-eb8b-473a-87fe-d68efd2af763",
   "metadata": {},
   "outputs": [
    {
     "data": {
      "text/plain": [
       "array([1, 1, 1, ..., 1, 1, 1], dtype=int64)"
      ]
     },
     "execution_count": 29,
     "metadata": {},
     "output_type": "execute_result"
    }
   ],
   "source": [
    "y"
   ]
  },
  {
   "cell_type": "code",
   "execution_count": 30,
   "id": "b3990b5e-df9f-483a-bab6-0cf148aec1c1",
   "metadata": {},
   "outputs": [
    {
     "data": {
      "text/plain": [
       "array([[1.37200000e+03, 2.00000000e+00, 2.00000000e+00, ...,\n",
       "        1.54500000e+03, 1.10000000e+01, 1.80427271e+00],\n",
       "       [1.46100000e+03, 2.00000000e+00, 2.00000000e+00, ...,\n",
       "        1.55700000e+03, 1.10000000e+01, 1.80427271e+00],\n",
       "       [1.37100000e+03, 2.00000000e+00, 2.00000000e+00, ...,\n",
       "        1.56600000e+03, 1.10000000e+01, 1.80427271e+00],\n",
       "       ...,\n",
       "       [8.20000000e+01, 5.00000000e+00, 3.00000000e+00, ...,\n",
       "        5.84000000e+02, 1.20000000e+01, 8.88450288e-01],\n",
       "       [7.90000000e+01, 2.00000000e+00, 3.00000000e+00, ...,\n",
       "        4.91000000e+02, 1.20000000e+01, 8.88450288e-01],\n",
       "       [7.20000000e+01, 5.00000000e+00, 3.00000000e+00, ...,\n",
       "        4.92000000e+02, 1.20000000e+01, 8.88450288e-01]])"
      ]
     },
     "execution_count": 30,
     "metadata": {},
     "output_type": "execute_result"
    }
   ],
   "source": [
    "X"
   ]
  },
  {
   "cell_type": "code",
   "execution_count": 31,
   "id": "c8b13b74-1fb1-4272-abc7-b600b8789a32",
   "metadata": {},
   "outputs": [],
   "source": [
    "X_train, X_tv, Y_train, Y_tv = train_test_split(X, y, test_size=0.25)"
   ]
  },
  {
   "cell_type": "code",
   "execution_count": 32,
   "id": "a047f70a-4cf9-4300-aa38-3a1680997fe7",
   "metadata": {},
   "outputs": [],
   "source": [
    "X_test, X_valid, Y_test, Y_valid = train_test_split(X_tv, Y_tv, test_size=0.5)"
   ]
  },
  {
   "cell_type": "code",
   "execution_count": 33,
   "id": "abff34a0-3ab0-4cde-948c-4346013d0b68",
   "metadata": {},
   "outputs": [],
   "source": [
    "scaler = StandardScaler()"
   ]
  },
  {
   "cell_type": "code",
   "execution_count": 34,
   "id": "8c36aad3-780e-4869-9e43-94e24ffc79ce",
   "metadata": {},
   "outputs": [],
   "source": [
    "X_train = scaler.fit_transform(X_train)"
   ]
  },
  {
   "cell_type": "code",
   "execution_count": 35,
   "id": "f7d27e3f-fb4f-445e-93f2-f20d37229f1a",
   "metadata": {},
   "outputs": [],
   "source": [
    "X_test = scaler.transform(X_test)"
   ]
  },
  {
   "cell_type": "code",
   "execution_count": 36,
   "id": "821a9ae3-28b7-4643-8eb0-e9be984f8bff",
   "metadata": {},
   "outputs": [],
   "source": [
    "X_valid = scaler.transform(X_valid)"
   ]
  },
  {
   "cell_type": "code",
   "execution_count": 37,
   "id": "9de8e436-b945-4b8e-9583-2c977d85dc1c",
   "metadata": {},
   "outputs": [
    {
     "data": {
      "text/plain": [
       "(40526, 6754)"
      ]
     },
     "execution_count": 37,
     "metadata": {},
     "output_type": "execute_result"
    }
   ],
   "source": [
    "len(X_train), len(X_test)"
   ]
  },
  {
   "cell_type": "code",
   "execution_count": 38,
   "id": "1feff9d1-a123-41bf-88e5-cd97d76c08b0",
   "metadata": {},
   "outputs": [
    {
     "data": {
      "text/plain": [
       "(40526, 6754)"
      ]
     },
     "execution_count": 38,
     "metadata": {},
     "output_type": "execute_result"
    }
   ],
   "source": [
    "len(Y_train), len(Y_test)"
   ]
  },
  {
   "cell_type": "markdown",
   "id": "9f68a280-26ed-4d03-9bf2-f5d713d240c8",
   "metadata": {},
   "source": [
    "### Train the model"
   ]
  },
  {
   "cell_type": "code",
   "execution_count": 39,
   "id": "bda8ad16-3eae-400d-ad0c-58c3fa3b7d4c",
   "metadata": {},
   "outputs": [],
   "source": [
    "N, D = X_train.shape"
   ]
  },
  {
   "cell_type": "code",
   "execution_count": 40,
   "id": "fdaadfaf-ff71-4bcf-a411-c7914479c7bb",
   "metadata": {},
   "outputs": [],
   "source": [
    "K = 1"
   ]
  },
  {
   "cell_type": "code",
   "execution_count": 41,
   "id": "5b893f40-4196-43d0-bbf0-052281e44142",
   "metadata": {},
   "outputs": [],
   "source": [
    "model = tf.keras.models.Sequential([\n",
    "    tf.keras.layers.Input((D,)),\n",
    "    tf.keras.layers.Dense(K, activation=\"sigmoid\")\n",
    "])"
   ]
  },
  {
   "cell_type": "code",
   "execution_count": 42,
   "id": "391375a5-4f32-4bc7-9867-e716a3cf5b74",
   "metadata": {},
   "outputs": [],
   "source": [
    "model.compile(\n",
    "    optimizer=\"adam\",\n",
    "    loss=\"binary_crossentropy\",\n",
    "    metrics=[\"accuracy\"]\n",
    ")"
   ]
  },
  {
   "cell_type": "code",
   "execution_count": 43,
   "id": "1f33f405-d4ee-4efc-b226-e937cee5375e",
   "metadata": {
    "scrolled": true
   },
   "outputs": [
    {
     "name": "stdout",
     "output_type": "stream",
     "text": [
      "Epoch 1/150\n",
      "\u001b[1m1267/1267\u001b[0m \u001b[32m━━━━━━━━━━━━━━━━━━━━\u001b[0m\u001b[37m\u001b[0m \u001b[1m3s\u001b[0m 2ms/step - accuracy: 0.6053 - loss: 0.6689 - val_accuracy: 0.6382 - val_loss: 0.6376\n",
      "Epoch 2/150\n",
      "\u001b[1m1267/1267\u001b[0m \u001b[32m━━━━━━━━━━━━━━━━━━━━\u001b[0m\u001b[37m\u001b[0m \u001b[1m2s\u001b[0m 2ms/step - accuracy: 0.6338 - loss: 0.6420 - val_accuracy: 0.6389 - val_loss: 0.6332\n",
      "Epoch 3/150\n",
      "\u001b[1m1267/1267\u001b[0m \u001b[32m━━━━━━━━━━━━━━━━━━━━\u001b[0m\u001b[37m\u001b[0m \u001b[1m4s\u001b[0m 3ms/step - accuracy: 0.6303 - loss: 0.6406 - val_accuracy: 0.6403 - val_loss: 0.6315\n",
      "Epoch 4/150\n",
      "\u001b[1m1267/1267\u001b[0m \u001b[32m━━━━━━━━━━━━━━━━━━━━\u001b[0m\u001b[37m\u001b[0m \u001b[1m3s\u001b[0m 2ms/step - accuracy: 0.6332 - loss: 0.6388 - val_accuracy: 0.6395 - val_loss: 0.6310\n",
      "Epoch 5/150\n",
      "\u001b[1m1267/1267\u001b[0m \u001b[32m━━━━━━━━━━━━━━━━━━━━\u001b[0m\u001b[37m\u001b[0m \u001b[1m3s\u001b[0m 3ms/step - accuracy: 0.6297 - loss: 0.6368 - val_accuracy: 0.6441 - val_loss: 0.6308\n",
      "Epoch 6/150\n",
      "\u001b[1m1267/1267\u001b[0m \u001b[32m━━━━━━━━━━━━━━━━━━━━\u001b[0m\u001b[37m\u001b[0m \u001b[1m4s\u001b[0m 3ms/step - accuracy: 0.6340 - loss: 0.6366 - val_accuracy: 0.6416 - val_loss: 0.6308\n",
      "Epoch 7/150\n",
      "\u001b[1m1267/1267\u001b[0m \u001b[32m━━━━━━━━━━━━━━━━━━━━\u001b[0m\u001b[37m\u001b[0m \u001b[1m2s\u001b[0m 2ms/step - accuracy: 0.6342 - loss: 0.6365 - val_accuracy: 0.6410 - val_loss: 0.6304\n",
      "Epoch 8/150\n",
      "\u001b[1m1267/1267\u001b[0m \u001b[32m━━━━━━━━━━━━━━━━━━━━\u001b[0m\u001b[37m\u001b[0m \u001b[1m2s\u001b[0m 2ms/step - accuracy: 0.6346 - loss: 0.6348 - val_accuracy: 0.6416 - val_loss: 0.6306\n",
      "Epoch 9/150\n",
      "\u001b[1m1267/1267\u001b[0m \u001b[32m━━━━━━━━━━━━━━━━━━━━\u001b[0m\u001b[37m\u001b[0m \u001b[1m2s\u001b[0m 2ms/step - accuracy: 0.6331 - loss: 0.6366 - val_accuracy: 0.6432 - val_loss: 0.6306\n",
      "Epoch 10/150\n",
      "\u001b[1m1267/1267\u001b[0m \u001b[32m━━━━━━━━━━━━━━━━━━━━\u001b[0m\u001b[37m\u001b[0m \u001b[1m2s\u001b[0m 1ms/step - accuracy: 0.6370 - loss: 0.6363 - val_accuracy: 0.6420 - val_loss: 0.6309\n",
      "Epoch 11/150\n",
      "\u001b[1m1267/1267\u001b[0m \u001b[32m━━━━━━━━━━━━━━━━━━━━\u001b[0m\u001b[37m\u001b[0m \u001b[1m3s\u001b[0m 2ms/step - accuracy: 0.6345 - loss: 0.6361 - val_accuracy: 0.6415 - val_loss: 0.6310\n",
      "Epoch 12/150\n",
      "\u001b[1m1267/1267\u001b[0m \u001b[32m━━━━━━━━━━━━━━━━━━━━\u001b[0m\u001b[37m\u001b[0m \u001b[1m3s\u001b[0m 3ms/step - accuracy: 0.6364 - loss: 0.6364 - val_accuracy: 0.6403 - val_loss: 0.6306\n",
      "Epoch 13/150\n",
      "\u001b[1m1267/1267\u001b[0m \u001b[32m━━━━━━━━━━━━━━━━━━━━\u001b[0m\u001b[37m\u001b[0m \u001b[1m2s\u001b[0m 2ms/step - accuracy: 0.6318 - loss: 0.6393 - val_accuracy: 0.6429 - val_loss: 0.6305\n",
      "Epoch 14/150\n",
      "\u001b[1m1267/1267\u001b[0m \u001b[32m━━━━━━━━━━━━━━━━━━━━\u001b[0m\u001b[37m\u001b[0m \u001b[1m2s\u001b[0m 1ms/step - accuracy: 0.6378 - loss: 0.6357 - val_accuracy: 0.6409 - val_loss: 0.6306\n",
      "Epoch 15/150\n",
      "\u001b[1m1267/1267\u001b[0m \u001b[32m━━━━━━━━━━━━━━━━━━━━\u001b[0m\u001b[37m\u001b[0m \u001b[1m2s\u001b[0m 2ms/step - accuracy: 0.6332 - loss: 0.6361 - val_accuracy: 0.6403 - val_loss: 0.6306\n",
      "Epoch 16/150\n",
      "\u001b[1m1267/1267\u001b[0m \u001b[32m━━━━━━━━━━━━━━━━━━━━\u001b[0m\u001b[37m\u001b[0m \u001b[1m2s\u001b[0m 2ms/step - accuracy: 0.6340 - loss: 0.6370 - val_accuracy: 0.6434 - val_loss: 0.6308\n",
      "Epoch 17/150\n",
      "\u001b[1m1267/1267\u001b[0m \u001b[32m━━━━━━━━━━━━━━━━━━━━\u001b[0m\u001b[37m\u001b[0m \u001b[1m3s\u001b[0m 3ms/step - accuracy: 0.6241 - loss: 0.6405 - val_accuracy: 0.6419 - val_loss: 0.6306\n",
      "Epoch 18/150\n",
      "\u001b[1m1267/1267\u001b[0m \u001b[32m━━━━━━━━━━━━━━━━━━━━\u001b[0m\u001b[37m\u001b[0m \u001b[1m3s\u001b[0m 3ms/step - accuracy: 0.6306 - loss: 0.6381 - val_accuracy: 0.6415 - val_loss: 0.6305\n",
      "Epoch 19/150\n",
      "\u001b[1m1267/1267\u001b[0m \u001b[32m━━━━━━━━━━━━━━━━━━━━\u001b[0m\u001b[37m\u001b[0m \u001b[1m4s\u001b[0m 3ms/step - accuracy: 0.6294 - loss: 0.6400 - val_accuracy: 0.6420 - val_loss: 0.6306\n",
      "Epoch 20/150\n",
      "\u001b[1m1267/1267\u001b[0m \u001b[32m━━━━━━━━━━━━━━━━━━━━\u001b[0m\u001b[37m\u001b[0m \u001b[1m4s\u001b[0m 3ms/step - accuracy: 0.6415 - loss: 0.6326 - val_accuracy: 0.6400 - val_loss: 0.6311\n",
      "Epoch 21/150\n",
      "\u001b[1m1267/1267\u001b[0m \u001b[32m━━━━━━━━━━━━━━━━━━━━\u001b[0m\u001b[37m\u001b[0m \u001b[1m2s\u001b[0m 2ms/step - accuracy: 0.6324 - loss: 0.6378 - val_accuracy: 0.6425 - val_loss: 0.6308\n",
      "Epoch 22/150\n",
      "\u001b[1m1267/1267\u001b[0m \u001b[32m━━━━━━━━━━━━━━━━━━━━\u001b[0m\u001b[37m\u001b[0m \u001b[1m2s\u001b[0m 2ms/step - accuracy: 0.6333 - loss: 0.6389 - val_accuracy: 0.6431 - val_loss: 0.6307\n",
      "Epoch 23/150\n",
      "\u001b[1m1267/1267\u001b[0m \u001b[32m━━━━━━━━━━━━━━━━━━━━\u001b[0m\u001b[37m\u001b[0m \u001b[1m4s\u001b[0m 3ms/step - accuracy: 0.6284 - loss: 0.6390 - val_accuracy: 0.6413 - val_loss: 0.6305\n",
      "Epoch 24/150\n",
      "\u001b[1m1267/1267\u001b[0m \u001b[32m━━━━━━━━━━━━━━━━━━━━\u001b[0m\u001b[37m\u001b[0m \u001b[1m4s\u001b[0m 3ms/step - accuracy: 0.6294 - loss: 0.6395 - val_accuracy: 0.6403 - val_loss: 0.6306\n",
      "Epoch 25/150\n",
      "\u001b[1m1267/1267\u001b[0m \u001b[32m━━━━━━━━━━━━━━━━━━━━\u001b[0m\u001b[37m\u001b[0m \u001b[1m2s\u001b[0m 2ms/step - accuracy: 0.6333 - loss: 0.6361 - val_accuracy: 0.6413 - val_loss: 0.6308\n",
      "Epoch 26/150\n",
      "\u001b[1m1267/1267\u001b[0m \u001b[32m━━━━━━━━━━━━━━━━━━━━\u001b[0m\u001b[37m\u001b[0m \u001b[1m2s\u001b[0m 2ms/step - accuracy: 0.6316 - loss: 0.6375 - val_accuracy: 0.6466 - val_loss: 0.6305\n",
      "Epoch 27/150\n",
      "\u001b[1m1267/1267\u001b[0m \u001b[32m━━━━━━━━━━━━━━━━━━━━\u001b[0m\u001b[37m\u001b[0m \u001b[1m3s\u001b[0m 3ms/step - accuracy: 0.6362 - loss: 0.6389 - val_accuracy: 0.6435 - val_loss: 0.6309\n",
      "Epoch 28/150\n",
      "\u001b[1m1267/1267\u001b[0m \u001b[32m━━━━━━━━━━━━━━━━━━━━\u001b[0m\u001b[37m\u001b[0m \u001b[1m5s\u001b[0m 4ms/step - accuracy: 0.6304 - loss: 0.6381 - val_accuracy: 0.6416 - val_loss: 0.6307\n",
      "Epoch 29/150\n",
      "\u001b[1m1267/1267\u001b[0m \u001b[32m━━━━━━━━━━━━━━━━━━━━\u001b[0m\u001b[37m\u001b[0m \u001b[1m4s\u001b[0m 3ms/step - accuracy: 0.6349 - loss: 0.6352 - val_accuracy: 0.6419 - val_loss: 0.6308\n",
      "Epoch 30/150\n",
      "\u001b[1m1267/1267\u001b[0m \u001b[32m━━━━━━━━━━━━━━━━━━━━\u001b[0m\u001b[37m\u001b[0m \u001b[1m4s\u001b[0m 3ms/step - accuracy: 0.6326 - loss: 0.6381 - val_accuracy: 0.6441 - val_loss: 0.6305\n",
      "Epoch 31/150\n",
      "\u001b[1m1267/1267\u001b[0m \u001b[32m━━━━━━━━━━━━━━━━━━━━\u001b[0m\u001b[37m\u001b[0m \u001b[1m4s\u001b[0m 3ms/step - accuracy: 0.6371 - loss: 0.6349 - val_accuracy: 0.6423 - val_loss: 0.6309\n",
      "Epoch 32/150\n",
      "\u001b[1m1267/1267\u001b[0m \u001b[32m━━━━━━━━━━━━━━━━━━━━\u001b[0m\u001b[37m\u001b[0m \u001b[1m4s\u001b[0m 3ms/step - accuracy: 0.6395 - loss: 0.6335 - val_accuracy: 0.6423 - val_loss: 0.6306\n",
      "Epoch 33/150\n",
      "\u001b[1m1267/1267\u001b[0m \u001b[32m━━━━━━━━━━━━━━━━━━━━\u001b[0m\u001b[37m\u001b[0m \u001b[1m4s\u001b[0m 3ms/step - accuracy: 0.6368 - loss: 0.6367 - val_accuracy: 0.6431 - val_loss: 0.6308\n",
      "Epoch 34/150\n",
      "\u001b[1m1267/1267\u001b[0m \u001b[32m━━━━━━━━━━━━━━━━━━━━\u001b[0m\u001b[37m\u001b[0m \u001b[1m5s\u001b[0m 4ms/step - accuracy: 0.6320 - loss: 0.6377 - val_accuracy: 0.6446 - val_loss: 0.6305\n",
      "Epoch 35/150\n",
      "\u001b[1m1267/1267\u001b[0m \u001b[32m━━━━━━━━━━━━━━━━━━━━\u001b[0m\u001b[37m\u001b[0m \u001b[1m4s\u001b[0m 3ms/step - accuracy: 0.6325 - loss: 0.6382 - val_accuracy: 0.6425 - val_loss: 0.6308\n",
      "Epoch 36/150\n",
      "\u001b[1m1267/1267\u001b[0m \u001b[32m━━━━━━━━━━━━━━━━━━━━\u001b[0m\u001b[37m\u001b[0m \u001b[1m4s\u001b[0m 3ms/step - accuracy: 0.6313 - loss: 0.6386 - val_accuracy: 0.6428 - val_loss: 0.6305\n",
      "Epoch 37/150\n",
      "\u001b[1m1267/1267\u001b[0m \u001b[32m━━━━━━━━━━━━━━━━━━━━\u001b[0m\u001b[37m\u001b[0m \u001b[1m4s\u001b[0m 3ms/step - accuracy: 0.6348 - loss: 0.6361 - val_accuracy: 0.6403 - val_loss: 0.6306\n",
      "Epoch 38/150\n",
      "\u001b[1m1267/1267\u001b[0m \u001b[32m━━━━━━━━━━━━━━━━━━━━\u001b[0m\u001b[37m\u001b[0m \u001b[1m3s\u001b[0m 2ms/step - accuracy: 0.6298 - loss: 0.6387 - val_accuracy: 0.6395 - val_loss: 0.6307\n",
      "Epoch 39/150\n",
      "\u001b[1m1267/1267\u001b[0m \u001b[32m━━━━━━━━━━━━━━━━━━━━\u001b[0m\u001b[37m\u001b[0m \u001b[1m3s\u001b[0m 2ms/step - accuracy: 0.6318 - loss: 0.6384 - val_accuracy: 0.6449 - val_loss: 0.6307\n",
      "Epoch 40/150\n",
      "\u001b[1m1267/1267\u001b[0m \u001b[32m━━━━━━━━━━━━━━━━━━━━\u001b[0m\u001b[37m\u001b[0m \u001b[1m5s\u001b[0m 4ms/step - accuracy: 0.6297 - loss: 0.6384 - val_accuracy: 0.6420 - val_loss: 0.6308\n",
      "Epoch 41/150\n",
      "\u001b[1m1267/1267\u001b[0m \u001b[32m━━━━━━━━━━━━━━━━━━━━\u001b[0m\u001b[37m\u001b[0m \u001b[1m5s\u001b[0m 4ms/step - accuracy: 0.6316 - loss: 0.6374 - val_accuracy: 0.6419 - val_loss: 0.6307\n",
      "Epoch 42/150\n",
      "\u001b[1m1267/1267\u001b[0m \u001b[32m━━━━━━━━━━━━━━━━━━━━\u001b[0m\u001b[37m\u001b[0m \u001b[1m3s\u001b[0m 2ms/step - accuracy: 0.6303 - loss: 0.6383 - val_accuracy: 0.6422 - val_loss: 0.6308\n",
      "Epoch 43/150\n",
      "\u001b[1m1267/1267\u001b[0m \u001b[32m━━━━━━━━━━━━━━━━━━━━\u001b[0m\u001b[37m\u001b[0m \u001b[1m4s\u001b[0m 3ms/step - accuracy: 0.6340 - loss: 0.6378 - val_accuracy: 0.6440 - val_loss: 0.6309\n",
      "Epoch 44/150\n",
      "\u001b[1m1267/1267\u001b[0m \u001b[32m━━━━━━━━━━━━━━━━━━━━\u001b[0m\u001b[37m\u001b[0m \u001b[1m4s\u001b[0m 3ms/step - accuracy: 0.6340 - loss: 0.6372 - val_accuracy: 0.6412 - val_loss: 0.6308\n",
      "Epoch 45/150\n",
      "\u001b[1m1267/1267\u001b[0m \u001b[32m━━━━━━━━━━━━━━━━━━━━\u001b[0m\u001b[37m\u001b[0m \u001b[1m4s\u001b[0m 3ms/step - accuracy: 0.6312 - loss: 0.6352 - val_accuracy: 0.6401 - val_loss: 0.6308\n",
      "Epoch 46/150\n",
      "\u001b[1m1267/1267\u001b[0m \u001b[32m━━━━━━━━━━━━━━━━━━━━\u001b[0m\u001b[37m\u001b[0m \u001b[1m4s\u001b[0m 3ms/step - accuracy: 0.6359 - loss: 0.6354 - val_accuracy: 0.6406 - val_loss: 0.6306\n",
      "Epoch 47/150\n",
      "\u001b[1m1267/1267\u001b[0m \u001b[32m━━━━━━━━━━━━━━━━━━━━\u001b[0m\u001b[37m\u001b[0m \u001b[1m4s\u001b[0m 3ms/step - accuracy: 0.6355 - loss: 0.6353 - val_accuracy: 0.6431 - val_loss: 0.6304\n",
      "Epoch 48/150\n",
      "\u001b[1m1267/1267\u001b[0m \u001b[32m━━━━━━━━━━━━━━━━━━━━\u001b[0m\u001b[37m\u001b[0m \u001b[1m4s\u001b[0m 3ms/step - accuracy: 0.6324 - loss: 0.6387 - val_accuracy: 0.6406 - val_loss: 0.6305\n",
      "Epoch 49/150\n",
      "\u001b[1m1267/1267\u001b[0m \u001b[32m━━━━━━━━━━━━━━━━━━━━\u001b[0m\u001b[37m\u001b[0m \u001b[1m4s\u001b[0m 3ms/step - accuracy: 0.6292 - loss: 0.6388 - val_accuracy: 0.6426 - val_loss: 0.6305\n",
      "Epoch 50/150\n"
     ]
    },
    {
     "name": "stdout",
     "output_type": "stream",
     "text": [
      "\u001b[1m1267/1267\u001b[0m \u001b[32m━━━━━━━━━━━━━━━━━━━━\u001b[0m\u001b[37m\u001b[0m \u001b[1m4s\u001b[0m 3ms/step - accuracy: 0.6288 - loss: 0.6386 - val_accuracy: 0.6416 - val_loss: 0.6305\n",
      "Epoch 51/150\n",
      "\u001b[1m1267/1267\u001b[0m \u001b[32m━━━━━━━━━━━━━━━━━━━━\u001b[0m\u001b[37m\u001b[0m \u001b[1m4s\u001b[0m 3ms/step - accuracy: 0.6302 - loss: 0.6400 - val_accuracy: 0.6417 - val_loss: 0.6306\n",
      "Epoch 52/150\n",
      "\u001b[1m1267/1267\u001b[0m \u001b[32m━━━━━━━━━━━━━━━━━━━━\u001b[0m\u001b[37m\u001b[0m \u001b[1m4s\u001b[0m 3ms/step - accuracy: 0.6358 - loss: 0.6354 - val_accuracy: 0.6406 - val_loss: 0.6306\n",
      "Epoch 53/150\n",
      "\u001b[1m1267/1267\u001b[0m \u001b[32m━━━━━━━━━━━━━━━━━━━━\u001b[0m\u001b[37m\u001b[0m \u001b[1m4s\u001b[0m 3ms/step - accuracy: 0.6377 - loss: 0.6348 - val_accuracy: 0.6401 - val_loss: 0.6309\n",
      "Epoch 54/150\n",
      "\u001b[1m1267/1267\u001b[0m \u001b[32m━━━━━━━━━━━━━━━━━━━━\u001b[0m\u001b[37m\u001b[0m \u001b[1m4s\u001b[0m 3ms/step - accuracy: 0.6355 - loss: 0.6374 - val_accuracy: 0.6403 - val_loss: 0.6310\n",
      "Epoch 55/150\n",
      "\u001b[1m1267/1267\u001b[0m \u001b[32m━━━━━━━━━━━━━━━━━━━━\u001b[0m\u001b[37m\u001b[0m \u001b[1m4s\u001b[0m 3ms/step - accuracy: 0.6336 - loss: 0.6372 - val_accuracy: 0.6431 - val_loss: 0.6309\n",
      "Epoch 56/150\n",
      "\u001b[1m1267/1267\u001b[0m \u001b[32m━━━━━━━━━━━━━━━━━━━━\u001b[0m\u001b[37m\u001b[0m \u001b[1m4s\u001b[0m 3ms/step - accuracy: 0.6341 - loss: 0.6398 - val_accuracy: 0.6416 - val_loss: 0.6309\n",
      "Epoch 57/150\n",
      "\u001b[1m1267/1267\u001b[0m \u001b[32m━━━━━━━━━━━━━━━━━━━━\u001b[0m\u001b[37m\u001b[0m \u001b[1m3s\u001b[0m 2ms/step - accuracy: 0.6372 - loss: 0.6355 - val_accuracy: 0.6435 - val_loss: 0.6311\n",
      "Epoch 58/150\n",
      "\u001b[1m1267/1267\u001b[0m \u001b[32m━━━━━━━━━━━━━━━━━━━━\u001b[0m\u001b[37m\u001b[0m \u001b[1m4s\u001b[0m 3ms/step - accuracy: 0.6310 - loss: 0.6410 - val_accuracy: 0.6431 - val_loss: 0.6305\n",
      "Epoch 59/150\n",
      "\u001b[1m1267/1267\u001b[0m \u001b[32m━━━━━━━━━━━━━━━━━━━━\u001b[0m\u001b[37m\u001b[0m \u001b[1m4s\u001b[0m 3ms/step - accuracy: 0.6308 - loss: 0.6389 - val_accuracy: 0.6410 - val_loss: 0.6311\n",
      "Epoch 60/150\n",
      "\u001b[1m1267/1267\u001b[0m \u001b[32m━━━━━━━━━━━━━━━━━━━━\u001b[0m\u001b[37m\u001b[0m \u001b[1m4s\u001b[0m 3ms/step - accuracy: 0.6329 - loss: 0.6390 - val_accuracy: 0.6425 - val_loss: 0.6304\n",
      "Epoch 61/150\n",
      "\u001b[1m1267/1267\u001b[0m \u001b[32m━━━━━━━━━━━━━━━━━━━━\u001b[0m\u001b[37m\u001b[0m \u001b[1m5s\u001b[0m 4ms/step - accuracy: 0.6380 - loss: 0.6353 - val_accuracy: 0.6401 - val_loss: 0.6305\n",
      "Epoch 62/150\n",
      "\u001b[1m1267/1267\u001b[0m \u001b[32m━━━━━━━━━━━━━━━━━━━━\u001b[0m\u001b[37m\u001b[0m \u001b[1m4s\u001b[0m 3ms/step - accuracy: 0.6362 - loss: 0.6361 - val_accuracy: 0.6415 - val_loss: 0.6307\n",
      "Epoch 63/150\n",
      "\u001b[1m1267/1267\u001b[0m \u001b[32m━━━━━━━━━━━━━━━━━━━━\u001b[0m\u001b[37m\u001b[0m \u001b[1m5s\u001b[0m 4ms/step - accuracy: 0.6300 - loss: 0.6370 - val_accuracy: 0.6417 - val_loss: 0.6305\n",
      "Epoch 64/150\n",
      "\u001b[1m1267/1267\u001b[0m \u001b[32m━━━━━━━━━━━━━━━━━━━━\u001b[0m\u001b[37m\u001b[0m \u001b[1m3s\u001b[0m 3ms/step - accuracy: 0.6357 - loss: 0.6367 - val_accuracy: 0.6410 - val_loss: 0.6309\n",
      "Epoch 65/150\n",
      "\u001b[1m1267/1267\u001b[0m \u001b[32m━━━━━━━━━━━━━━━━━━━━\u001b[0m\u001b[37m\u001b[0m \u001b[1m4s\u001b[0m 3ms/step - accuracy: 0.6345 - loss: 0.6373 - val_accuracy: 0.6407 - val_loss: 0.6311\n",
      "Epoch 66/150\n",
      "\u001b[1m1267/1267\u001b[0m \u001b[32m━━━━━━━━━━━━━━━━━━━━\u001b[0m\u001b[37m\u001b[0m \u001b[1m5s\u001b[0m 4ms/step - accuracy: 0.6361 - loss: 0.6356 - val_accuracy: 0.6415 - val_loss: 0.6308\n",
      "Epoch 67/150\n",
      "\u001b[1m1267/1267\u001b[0m \u001b[32m━━━━━━━━━━━━━━━━━━━━\u001b[0m\u001b[37m\u001b[0m \u001b[1m4s\u001b[0m 3ms/step - accuracy: 0.6345 - loss: 0.6366 - val_accuracy: 0.6410 - val_loss: 0.6310\n",
      "Epoch 68/150\n",
      "\u001b[1m1267/1267\u001b[0m \u001b[32m━━━━━━━━━━━━━━━━━━━━\u001b[0m\u001b[37m\u001b[0m \u001b[1m4s\u001b[0m 3ms/step - accuracy: 0.6288 - loss: 0.6390 - val_accuracy: 0.6426 - val_loss: 0.6305\n",
      "Epoch 69/150\n",
      "\u001b[1m1267/1267\u001b[0m \u001b[32m━━━━━━━━━━━━━━━━━━━━\u001b[0m\u001b[37m\u001b[0m \u001b[1m5s\u001b[0m 3ms/step - accuracy: 0.6326 - loss: 0.6360 - val_accuracy: 0.6422 - val_loss: 0.6307\n",
      "Epoch 70/150\n",
      "\u001b[1m1267/1267\u001b[0m \u001b[32m━━━━━━━━━━━━━━━━━━━━\u001b[0m\u001b[37m\u001b[0m \u001b[1m3s\u001b[0m 3ms/step - accuracy: 0.6349 - loss: 0.6374 - val_accuracy: 0.6431 - val_loss: 0.6308\n",
      "Epoch 71/150\n",
      "\u001b[1m1267/1267\u001b[0m \u001b[32m━━━━━━━━━━━━━━━━━━━━\u001b[0m\u001b[37m\u001b[0m \u001b[1m4s\u001b[0m 3ms/step - accuracy: 0.6347 - loss: 0.6374 - val_accuracy: 0.6416 - val_loss: 0.6310\n",
      "Epoch 72/150\n",
      "\u001b[1m1267/1267\u001b[0m \u001b[32m━━━━━━━━━━━━━━━━━━━━\u001b[0m\u001b[37m\u001b[0m \u001b[1m4s\u001b[0m 3ms/step - accuracy: 0.6300 - loss: 0.6389 - val_accuracy: 0.6395 - val_loss: 0.6305\n",
      "Epoch 73/150\n",
      "\u001b[1m1267/1267\u001b[0m \u001b[32m━━━━━━━━━━━━━━━━━━━━\u001b[0m\u001b[37m\u001b[0m \u001b[1m4s\u001b[0m 3ms/step - accuracy: 0.6333 - loss: 0.6370 - val_accuracy: 0.6413 - val_loss: 0.6307\n",
      "Epoch 74/150\n",
      "\u001b[1m1267/1267\u001b[0m \u001b[32m━━━━━━━━━━━━━━━━━━━━\u001b[0m\u001b[37m\u001b[0m \u001b[1m4s\u001b[0m 3ms/step - accuracy: 0.6329 - loss: 0.6376 - val_accuracy: 0.6419 - val_loss: 0.6309\n",
      "Epoch 75/150\n",
      "\u001b[1m1267/1267\u001b[0m \u001b[32m━━━━━━━━━━━━━━━━━━━━\u001b[0m\u001b[37m\u001b[0m \u001b[1m4s\u001b[0m 3ms/step - accuracy: 0.6373 - loss: 0.6352 - val_accuracy: 0.6409 - val_loss: 0.6308\n",
      "Epoch 76/150\n",
      "\u001b[1m1267/1267\u001b[0m \u001b[32m━━━━━━━━━━━━━━━━━━━━\u001b[0m\u001b[37m\u001b[0m \u001b[1m5s\u001b[0m 4ms/step - accuracy: 0.6315 - loss: 0.6378 - val_accuracy: 0.6420 - val_loss: 0.6304\n",
      "Epoch 77/150\n",
      "\u001b[1m1267/1267\u001b[0m \u001b[32m━━━━━━━━━━━━━━━━━━━━\u001b[0m\u001b[37m\u001b[0m \u001b[1m4s\u001b[0m 3ms/step - accuracy: 0.6321 - loss: 0.6387 - val_accuracy: 0.6416 - val_loss: 0.6305\n",
      "Epoch 78/150\n",
      "\u001b[1m1267/1267\u001b[0m \u001b[32m━━━━━━━━━━━━━━━━━━━━\u001b[0m\u001b[37m\u001b[0m \u001b[1m5s\u001b[0m 4ms/step - accuracy: 0.6343 - loss: 0.6359 - val_accuracy: 0.6450 - val_loss: 0.6309\n",
      "Epoch 79/150\n",
      "\u001b[1m1267/1267\u001b[0m \u001b[32m━━━━━━━━━━━━━━━━━━━━\u001b[0m\u001b[37m\u001b[0m \u001b[1m4s\u001b[0m 3ms/step - accuracy: 0.6350 - loss: 0.6351 - val_accuracy: 0.6426 - val_loss: 0.6307\n",
      "Epoch 80/150\n",
      "\u001b[1m1267/1267\u001b[0m \u001b[32m━━━━━━━━━━━━━━━━━━━━\u001b[0m\u001b[37m\u001b[0m \u001b[1m4s\u001b[0m 3ms/step - accuracy: 0.6398 - loss: 0.6353 - val_accuracy: 0.6400 - val_loss: 0.6312\n",
      "Epoch 81/150\n",
      "\u001b[1m1267/1267\u001b[0m \u001b[32m━━━━━━━━━━━━━━━━━━━━\u001b[0m\u001b[37m\u001b[0m \u001b[1m4s\u001b[0m 3ms/step - accuracy: 0.6323 - loss: 0.6378 - val_accuracy: 0.6415 - val_loss: 0.6308\n",
      "Epoch 82/150\n",
      "\u001b[1m1267/1267\u001b[0m \u001b[32m━━━━━━━━━━━━━━━━━━━━\u001b[0m\u001b[37m\u001b[0m \u001b[1m4s\u001b[0m 3ms/step - accuracy: 0.6286 - loss: 0.6393 - val_accuracy: 0.6480 - val_loss: 0.6306\n",
      "Epoch 83/150\n",
      "\u001b[1m1267/1267\u001b[0m \u001b[32m━━━━━━━━━━━━━━━━━━━━\u001b[0m\u001b[37m\u001b[0m \u001b[1m2s\u001b[0m 2ms/step - accuracy: 0.6317 - loss: 0.6369 - val_accuracy: 0.6457 - val_loss: 0.6306\n",
      "Epoch 84/150\n",
      "\u001b[1m1267/1267\u001b[0m \u001b[32m━━━━━━━━━━━━━━━━━━━━\u001b[0m\u001b[37m\u001b[0m \u001b[1m4s\u001b[0m 3ms/step - accuracy: 0.6317 - loss: 0.6365 - val_accuracy: 0.6428 - val_loss: 0.6305\n",
      "Epoch 85/150\n",
      "\u001b[1m1267/1267\u001b[0m \u001b[32m━━━━━━━━━━━━━━━━━━━━\u001b[0m\u001b[37m\u001b[0m \u001b[1m4s\u001b[0m 3ms/step - accuracy: 0.6345 - loss: 0.6378 - val_accuracy: 0.6423 - val_loss: 0.6307\n",
      "Epoch 86/150\n",
      "\u001b[1m1267/1267\u001b[0m \u001b[32m━━━━━━━━━━━━━━━━━━━━\u001b[0m\u001b[37m\u001b[0m \u001b[1m4s\u001b[0m 3ms/step - accuracy: 0.6345 - loss: 0.6378 - val_accuracy: 0.6450 - val_loss: 0.6305\n",
      "Epoch 87/150\n",
      "\u001b[1m1267/1267\u001b[0m \u001b[32m━━━━━━━━━━━━━━━━━━━━\u001b[0m\u001b[37m\u001b[0m \u001b[1m4s\u001b[0m 3ms/step - accuracy: 0.6359 - loss: 0.6374 - val_accuracy: 0.6423 - val_loss: 0.6309\n",
      "Epoch 88/150\n",
      "\u001b[1m1267/1267\u001b[0m \u001b[32m━━━━━━━━━━━━━━━━━━━━\u001b[0m\u001b[37m\u001b[0m \u001b[1m5s\u001b[0m 4ms/step - accuracy: 0.6339 - loss: 0.6362 - val_accuracy: 0.6380 - val_loss: 0.6310\n",
      "Epoch 89/150\n",
      "\u001b[1m1267/1267\u001b[0m \u001b[32m━━━━━━━━━━━━━━━━━━━━\u001b[0m\u001b[37m\u001b[0m \u001b[1m5s\u001b[0m 4ms/step - accuracy: 0.6293 - loss: 0.6375 - val_accuracy: 0.6423 - val_loss: 0.6307\n",
      "Epoch 90/150\n",
      "\u001b[1m1267/1267\u001b[0m \u001b[32m━━━━━━━━━━━━━━━━━━━━\u001b[0m\u001b[37m\u001b[0m \u001b[1m4s\u001b[0m 3ms/step - accuracy: 0.6298 - loss: 0.6388 - val_accuracy: 0.6450 - val_loss: 0.6307\n",
      "Epoch 91/150\n",
      "\u001b[1m1267/1267\u001b[0m \u001b[32m━━━━━━━━━━━━━━━━━━━━\u001b[0m\u001b[37m\u001b[0m \u001b[1m4s\u001b[0m 3ms/step - accuracy: 0.6405 - loss: 0.6352 - val_accuracy: 0.6385 - val_loss: 0.6308\n",
      "Epoch 92/150\n",
      "\u001b[1m1267/1267\u001b[0m \u001b[32m━━━━━━━━━━━━━━━━━━━━\u001b[0m\u001b[37m\u001b[0m \u001b[1m4s\u001b[0m 3ms/step - accuracy: 0.6327 - loss: 0.6356 - val_accuracy: 0.6394 - val_loss: 0.6308\n",
      "Epoch 93/150\n",
      "\u001b[1m1267/1267\u001b[0m \u001b[32m━━━━━━━━━━━━━━━━━━━━\u001b[0m\u001b[37m\u001b[0m \u001b[1m4s\u001b[0m 3ms/step - accuracy: 0.6344 - loss: 0.6358 - val_accuracy: 0.6407 - val_loss: 0.6308\n",
      "Epoch 94/150\n",
      "\u001b[1m1267/1267\u001b[0m \u001b[32m━━━━━━━━━━━━━━━━━━━━\u001b[0m\u001b[37m\u001b[0m \u001b[1m4s\u001b[0m 3ms/step - accuracy: 0.6330 - loss: 0.6387 - val_accuracy: 0.6422 - val_loss: 0.6308\n",
      "Epoch 95/150\n",
      "\u001b[1m1267/1267\u001b[0m \u001b[32m━━━━━━━━━━━━━━━━━━━━\u001b[0m\u001b[37m\u001b[0m \u001b[1m4s\u001b[0m 3ms/step - accuracy: 0.6359 - loss: 0.6355 - val_accuracy: 0.6406 - val_loss: 0.6307\n",
      "Epoch 96/150\n",
      "\u001b[1m1267/1267\u001b[0m \u001b[32m━━━━━━━━━━━━━━━━━━━━\u001b[0m\u001b[37m\u001b[0m \u001b[1m3s\u001b[0m 3ms/step - accuracy: 0.6285 - loss: 0.6377 - val_accuracy: 0.6410 - val_loss: 0.6307\n",
      "Epoch 97/150\n",
      "\u001b[1m1267/1267\u001b[0m \u001b[32m━━━━━━━━━━━━━━━━━━━━\u001b[0m\u001b[37m\u001b[0m \u001b[1m4s\u001b[0m 3ms/step - accuracy: 0.6326 - loss: 0.6373 - val_accuracy: 0.6403 - val_loss: 0.6308\n",
      "Epoch 98/150\n",
      "\u001b[1m1267/1267\u001b[0m \u001b[32m━━━━━━━━━━━━━━━━━━━━\u001b[0m\u001b[37m\u001b[0m \u001b[1m4s\u001b[0m 3ms/step - accuracy: 0.6326 - loss: 0.6376 - val_accuracy: 0.6434 - val_loss: 0.6310\n",
      "Epoch 99/150\n"
     ]
    },
    {
     "name": "stdout",
     "output_type": "stream",
     "text": [
      "\u001b[1m1267/1267\u001b[0m \u001b[32m━━━━━━━━━━━━━━━━━━━━\u001b[0m\u001b[37m\u001b[0m \u001b[1m4s\u001b[0m 3ms/step - accuracy: 0.6335 - loss: 0.6355 - val_accuracy: 0.6407 - val_loss: 0.6306\n",
      "Epoch 100/150\n",
      "\u001b[1m1267/1267\u001b[0m \u001b[32m━━━━━━━━━━━━━━━━━━━━\u001b[0m\u001b[37m\u001b[0m \u001b[1m4s\u001b[0m 3ms/step - accuracy: 0.6299 - loss: 0.6391 - val_accuracy: 0.6428 - val_loss: 0.6305\n",
      "Epoch 101/150\n",
      "\u001b[1m1267/1267\u001b[0m \u001b[32m━━━━━━━━━━━━━━━━━━━━\u001b[0m\u001b[37m\u001b[0m \u001b[1m4s\u001b[0m 3ms/step - accuracy: 0.6364 - loss: 0.6352 - val_accuracy: 0.6429 - val_loss: 0.6306\n",
      "Epoch 102/150\n",
      "\u001b[1m1267/1267\u001b[0m \u001b[32m━━━━━━━━━━━━━━━━━━━━\u001b[0m\u001b[37m\u001b[0m \u001b[1m3s\u001b[0m 3ms/step - accuracy: 0.6284 - loss: 0.6400 - val_accuracy: 0.6400 - val_loss: 0.6306\n",
      "Epoch 103/150\n",
      "\u001b[1m1267/1267\u001b[0m \u001b[32m━━━━━━━━━━━━━━━━━━━━\u001b[0m\u001b[37m\u001b[0m \u001b[1m3s\u001b[0m 3ms/step - accuracy: 0.6348 - loss: 0.6383 - val_accuracy: 0.6417 - val_loss: 0.6306\n",
      "Epoch 104/150\n",
      "\u001b[1m1267/1267\u001b[0m \u001b[32m━━━━━━━━━━━━━━━━━━━━\u001b[0m\u001b[37m\u001b[0m \u001b[1m2s\u001b[0m 2ms/step - accuracy: 0.6303 - loss: 0.6395 - val_accuracy: 0.6425 - val_loss: 0.6308\n",
      "Epoch 105/150\n",
      "\u001b[1m1267/1267\u001b[0m \u001b[32m━━━━━━━━━━━━━━━━━━━━\u001b[0m\u001b[37m\u001b[0m \u001b[1m4s\u001b[0m 3ms/step - accuracy: 0.6363 - loss: 0.6357 - val_accuracy: 0.6417 - val_loss: 0.6305\n",
      "Epoch 106/150\n",
      "\u001b[1m1267/1267\u001b[0m \u001b[32m━━━━━━━━━━━━━━━━━━━━\u001b[0m\u001b[37m\u001b[0m \u001b[1m5s\u001b[0m 4ms/step - accuracy: 0.6327 - loss: 0.6353 - val_accuracy: 0.6400 - val_loss: 0.6311\n",
      "Epoch 107/150\n",
      "\u001b[1m1267/1267\u001b[0m \u001b[32m━━━━━━━━━━━━━━━━━━━━\u001b[0m\u001b[37m\u001b[0m \u001b[1m1s\u001b[0m 986us/step - accuracy: 0.6323 - loss: 0.6369 - val_accuracy: 0.6435 - val_loss: 0.6304\n",
      "Epoch 108/150\n",
      "\u001b[1m1267/1267\u001b[0m \u001b[32m━━━━━━━━━━━━━━━━━━━━\u001b[0m\u001b[37m\u001b[0m \u001b[1m1s\u001b[0m 910us/step - accuracy: 0.6346 - loss: 0.6367 - val_accuracy: 0.6431 - val_loss: 0.6306\n",
      "Epoch 109/150\n",
      "\u001b[1m1267/1267\u001b[0m \u001b[32m━━━━━━━━━━━━━━━━━━━━\u001b[0m\u001b[37m\u001b[0m \u001b[1m1s\u001b[0m 924us/step - accuracy: 0.6328 - loss: 0.6370 - val_accuracy: 0.6417 - val_loss: 0.6306\n",
      "Epoch 110/150\n",
      "\u001b[1m1267/1267\u001b[0m \u001b[32m━━━━━━━━━━━━━━━━━━━━\u001b[0m\u001b[37m\u001b[0m \u001b[1m1s\u001b[0m 787us/step - accuracy: 0.6341 - loss: 0.6376 - val_accuracy: 0.6437 - val_loss: 0.6306\n",
      "Epoch 111/150\n",
      "\u001b[1m1267/1267\u001b[0m \u001b[32m━━━━━━━━━━━━━━━━━━━━\u001b[0m\u001b[37m\u001b[0m \u001b[1m1s\u001b[0m 814us/step - accuracy: 0.6369 - loss: 0.6360 - val_accuracy: 0.6419 - val_loss: 0.6307\n",
      "Epoch 112/150\n",
      "\u001b[1m1267/1267\u001b[0m \u001b[32m━━━━━━━━━━━━━━━━━━━━\u001b[0m\u001b[37m\u001b[0m \u001b[1m1s\u001b[0m 771us/step - accuracy: 0.6374 - loss: 0.6342 - val_accuracy: 0.6438 - val_loss: 0.6306\n",
      "Epoch 113/150\n",
      "\u001b[1m1267/1267\u001b[0m \u001b[32m━━━━━━━━━━━━━━━━━━━━\u001b[0m\u001b[37m\u001b[0m \u001b[1m1s\u001b[0m 762us/step - accuracy: 0.6331 - loss: 0.6368 - val_accuracy: 0.6419 - val_loss: 0.6307\n",
      "Epoch 114/150\n",
      "\u001b[1m1267/1267\u001b[0m \u001b[32m━━━━━━━━━━━━━━━━━━━━\u001b[0m\u001b[37m\u001b[0m \u001b[1m1s\u001b[0m 833us/step - accuracy: 0.6373 - loss: 0.6367 - val_accuracy: 0.6391 - val_loss: 0.6309\n",
      "Epoch 115/150\n",
      "\u001b[1m1267/1267\u001b[0m \u001b[32m━━━━━━━━━━━━━━━━━━━━\u001b[0m\u001b[37m\u001b[0m \u001b[1m1s\u001b[0m 749us/step - accuracy: 0.6276 - loss: 0.6393 - val_accuracy: 0.6410 - val_loss: 0.6307\n",
      "Epoch 116/150\n",
      "\u001b[1m1267/1267\u001b[0m \u001b[32m━━━━━━━━━━━━━━━━━━━━\u001b[0m\u001b[37m\u001b[0m \u001b[1m1s\u001b[0m 728us/step - accuracy: 0.6343 - loss: 0.6375 - val_accuracy: 0.6422 - val_loss: 0.6305\n",
      "Epoch 117/150\n",
      "\u001b[1m1267/1267\u001b[0m \u001b[32m━━━━━━━━━━━━━━━━━━━━\u001b[0m\u001b[37m\u001b[0m \u001b[1m1s\u001b[0m 720us/step - accuracy: 0.6360 - loss: 0.6348 - val_accuracy: 0.6401 - val_loss: 0.6313\n",
      "Epoch 118/150\n",
      "\u001b[1m1267/1267\u001b[0m \u001b[32m━━━━━━━━━━━━━━━━━━━━\u001b[0m\u001b[37m\u001b[0m \u001b[1m1s\u001b[0m 729us/step - accuracy: 0.6365 - loss: 0.6350 - val_accuracy: 0.6392 - val_loss: 0.6311\n",
      "Epoch 119/150\n",
      "\u001b[1m1267/1267\u001b[0m \u001b[32m━━━━━━━━━━━━━━━━━━━━\u001b[0m\u001b[37m\u001b[0m \u001b[1m1s\u001b[0m 739us/step - accuracy: 0.6281 - loss: 0.6372 - val_accuracy: 0.6454 - val_loss: 0.6307\n",
      "Epoch 120/150\n",
      "\u001b[1m1267/1267\u001b[0m \u001b[32m━━━━━━━━━━━━━━━━━━━━\u001b[0m\u001b[37m\u001b[0m \u001b[1m1s\u001b[0m 735us/step - accuracy: 0.6358 - loss: 0.6364 - val_accuracy: 0.6406 - val_loss: 0.6306\n",
      "Epoch 121/150\n",
      "\u001b[1m1267/1267\u001b[0m \u001b[32m━━━━━━━━━━━━━━━━━━━━\u001b[0m\u001b[37m\u001b[0m \u001b[1m1s\u001b[0m 735us/step - accuracy: 0.6301 - loss: 0.6387 - val_accuracy: 0.6443 - val_loss: 0.6305\n",
      "Epoch 122/150\n",
      "\u001b[1m1267/1267\u001b[0m \u001b[32m━━━━━━━━━━━━━━━━━━━━\u001b[0m\u001b[37m\u001b[0m \u001b[1m1s\u001b[0m 727us/step - accuracy: 0.6342 - loss: 0.6366 - val_accuracy: 0.6395 - val_loss: 0.6312\n",
      "Epoch 123/150\n",
      "\u001b[1m1267/1267\u001b[0m \u001b[32m━━━━━━━━━━━━━━━━━━━━\u001b[0m\u001b[37m\u001b[0m \u001b[1m1s\u001b[0m 807us/step - accuracy: 0.6356 - loss: 0.6349 - val_accuracy: 0.6409 - val_loss: 0.6307\n",
      "Epoch 124/150\n",
      "\u001b[1m1267/1267\u001b[0m \u001b[32m━━━━━━━━━━━━━━━━━━━━\u001b[0m\u001b[37m\u001b[0m \u001b[1m1s\u001b[0m 753us/step - accuracy: 0.6347 - loss: 0.6349 - val_accuracy: 0.6441 - val_loss: 0.6306\n",
      "Epoch 125/150\n",
      "\u001b[1m1267/1267\u001b[0m \u001b[32m━━━━━━━━━━━━━━━━━━━━\u001b[0m\u001b[37m\u001b[0m \u001b[1m1s\u001b[0m 716us/step - accuracy: 0.6357 - loss: 0.6345 - val_accuracy: 0.6449 - val_loss: 0.6313\n",
      "Epoch 126/150\n",
      "\u001b[1m1267/1267\u001b[0m \u001b[32m━━━━━━━━━━━━━━━━━━━━\u001b[0m\u001b[37m\u001b[0m \u001b[1m1s\u001b[0m 749us/step - accuracy: 0.6307 - loss: 0.6383 - val_accuracy: 0.6404 - val_loss: 0.6305\n",
      "Epoch 127/150\n",
      "\u001b[1m1267/1267\u001b[0m \u001b[32m━━━━━━━━━━━━━━━━━━━━\u001b[0m\u001b[37m\u001b[0m \u001b[1m1s\u001b[0m 760us/step - accuracy: 0.6332 - loss: 0.6371 - val_accuracy: 0.6412 - val_loss: 0.6304\n",
      "Epoch 128/150\n",
      "\u001b[1m1267/1267\u001b[0m \u001b[32m━━━━━━━━━━━━━━━━━━━━\u001b[0m\u001b[37m\u001b[0m \u001b[1m1s\u001b[0m 762us/step - accuracy: 0.6364 - loss: 0.6346 - val_accuracy: 0.6422 - val_loss: 0.6307\n",
      "Epoch 129/150\n",
      "\u001b[1m1267/1267\u001b[0m \u001b[32m━━━━━━━━━━━━━━━━━━━━\u001b[0m\u001b[37m\u001b[0m \u001b[1m1s\u001b[0m 719us/step - accuracy: 0.6293 - loss: 0.6406 - val_accuracy: 0.6466 - val_loss: 0.6305\n",
      "Epoch 130/150\n",
      "\u001b[1m1267/1267\u001b[0m \u001b[32m━━━━━━━━━━━━━━━━━━━━\u001b[0m\u001b[37m\u001b[0m \u001b[1m1s\u001b[0m 733us/step - accuracy: 0.6326 - loss: 0.6388 - val_accuracy: 0.6417 - val_loss: 0.6304\n",
      "Epoch 131/150\n",
      "\u001b[1m1267/1267\u001b[0m \u001b[32m━━━━━━━━━━━━━━━━━━━━\u001b[0m\u001b[37m\u001b[0m \u001b[1m1s\u001b[0m 737us/step - accuracy: 0.6302 - loss: 0.6384 - val_accuracy: 0.6444 - val_loss: 0.6308\n",
      "Epoch 132/150\n",
      "\u001b[1m1267/1267\u001b[0m \u001b[32m━━━━━━━━━━━━━━━━━━━━\u001b[0m\u001b[37m\u001b[0m \u001b[1m1s\u001b[0m 729us/step - accuracy: 0.6341 - loss: 0.6364 - val_accuracy: 0.6410 - val_loss: 0.6306\n",
      "Epoch 133/150\n",
      "\u001b[1m1267/1267\u001b[0m \u001b[32m━━━━━━━━━━━━━━━━━━━━\u001b[0m\u001b[37m\u001b[0m \u001b[1m1s\u001b[0m 736us/step - accuracy: 0.6343 - loss: 0.6364 - val_accuracy: 0.6410 - val_loss: 0.6308\n",
      "Epoch 134/150\n",
      "\u001b[1m1267/1267\u001b[0m \u001b[32m━━━━━━━━━━━━━━━━━━━━\u001b[0m\u001b[37m\u001b[0m \u001b[1m1s\u001b[0m 746us/step - accuracy: 0.6360 - loss: 0.6348 - val_accuracy: 0.6406 - val_loss: 0.6305\n",
      "Epoch 135/150\n",
      "\u001b[1m1267/1267\u001b[0m \u001b[32m━━━━━━━━━━━━━━━━━━━━\u001b[0m\u001b[37m\u001b[0m \u001b[1m1s\u001b[0m 743us/step - accuracy: 0.6295 - loss: 0.6392 - val_accuracy: 0.6404 - val_loss: 0.6306\n",
      "Epoch 136/150\n",
      "\u001b[1m1267/1267\u001b[0m \u001b[32m━━━━━━━━━━━━━━━━━━━━\u001b[0m\u001b[37m\u001b[0m \u001b[1m1s\u001b[0m 735us/step - accuracy: 0.6340 - loss: 0.6355 - val_accuracy: 0.6407 - val_loss: 0.6308\n",
      "Epoch 137/150\n",
      "\u001b[1m1267/1267\u001b[0m \u001b[32m━━━━━━━━━━━━━━━━━━━━\u001b[0m\u001b[37m\u001b[0m \u001b[1m1s\u001b[0m 725us/step - accuracy: 0.6352 - loss: 0.6357 - val_accuracy: 0.6420 - val_loss: 0.6306\n",
      "Epoch 138/150\n",
      "\u001b[1m1267/1267\u001b[0m \u001b[32m━━━━━━━━━━━━━━━━━━━━\u001b[0m\u001b[37m\u001b[0m \u001b[1m1s\u001b[0m 719us/step - accuracy: 0.6305 - loss: 0.6391 - val_accuracy: 0.6403 - val_loss: 0.6305\n",
      "Epoch 139/150\n",
      "\u001b[1m1267/1267\u001b[0m \u001b[32m━━━━━━━━━━━━━━━━━━━━\u001b[0m\u001b[37m\u001b[0m \u001b[1m1s\u001b[0m 726us/step - accuracy: 0.6325 - loss: 0.6375 - val_accuracy: 0.6406 - val_loss: 0.6311\n",
      "Epoch 140/150\n",
      "\u001b[1m1267/1267\u001b[0m \u001b[32m━━━━━━━━━━━━━━━━━━━━\u001b[0m\u001b[37m\u001b[0m \u001b[1m1s\u001b[0m 707us/step - accuracy: 0.6344 - loss: 0.6348 - val_accuracy: 0.6440 - val_loss: 0.6309\n",
      "Epoch 141/150\n",
      "\u001b[1m1267/1267\u001b[0m \u001b[32m━━━━━━━━━━━━━━━━━━━━\u001b[0m\u001b[37m\u001b[0m \u001b[1m1s\u001b[0m 743us/step - accuracy: 0.6394 - loss: 0.6359 - val_accuracy: 0.6398 - val_loss: 0.6306\n",
      "Epoch 142/150\n",
      "\u001b[1m1267/1267\u001b[0m \u001b[32m━━━━━━━━━━━━━━━━━━━━\u001b[0m\u001b[37m\u001b[0m \u001b[1m1s\u001b[0m 720us/step - accuracy: 0.6327 - loss: 0.6369 - val_accuracy: 0.6406 - val_loss: 0.6309\n",
      "Epoch 143/150\n",
      "\u001b[1m1267/1267\u001b[0m \u001b[32m━━━━━━━━━━━━━━━━━━━━\u001b[0m\u001b[37m\u001b[0m \u001b[1m1s\u001b[0m 747us/step - accuracy: 0.6315 - loss: 0.6387 - val_accuracy: 0.6385 - val_loss: 0.6312\n",
      "Epoch 144/150\n",
      "\u001b[1m1267/1267\u001b[0m \u001b[32m━━━━━━━━━━━━━━━━━━━━\u001b[0m\u001b[37m\u001b[0m \u001b[1m1s\u001b[0m 746us/step - accuracy: 0.6257 - loss: 0.6398 - val_accuracy: 0.6438 - val_loss: 0.6303\n",
      "Epoch 145/150\n",
      "\u001b[1m1267/1267\u001b[0m \u001b[32m━━━━━━━━━━━━━━━━━━━━\u001b[0m\u001b[37m\u001b[0m \u001b[1m1s\u001b[0m 769us/step - accuracy: 0.6325 - loss: 0.6383 - val_accuracy: 0.6431 - val_loss: 0.6304\n",
      "Epoch 146/150\n",
      "\u001b[1m1267/1267\u001b[0m \u001b[32m━━━━━━━━━━━━━━━━━━━━\u001b[0m\u001b[37m\u001b[0m \u001b[1m1s\u001b[0m 725us/step - accuracy: 0.6359 - loss: 0.6342 - val_accuracy: 0.6429 - val_loss: 0.6306\n",
      "Epoch 147/150\n"
     ]
    },
    {
     "name": "stdout",
     "output_type": "stream",
     "text": [
      "\u001b[1m1267/1267\u001b[0m \u001b[32m━━━━━━━━━━━━━━━━━━━━\u001b[0m\u001b[37m\u001b[0m \u001b[1m1s\u001b[0m 712us/step - accuracy: 0.6306 - loss: 0.6396 - val_accuracy: 0.6412 - val_loss: 0.6305\n",
      "Epoch 148/150\n",
      "\u001b[1m1267/1267\u001b[0m \u001b[32m━━━━━━━━━━━━━━━━━━━━\u001b[0m\u001b[37m\u001b[0m \u001b[1m1s\u001b[0m 710us/step - accuracy: 0.6324 - loss: 0.6361 - val_accuracy: 0.6388 - val_loss: 0.6312\n",
      "Epoch 149/150\n",
      "\u001b[1m1267/1267\u001b[0m \u001b[32m━━━━━━━━━━━━━━━━━━━━\u001b[0m\u001b[37m\u001b[0m \u001b[1m1s\u001b[0m 744us/step - accuracy: 0.6273 - loss: 0.6393 - val_accuracy: 0.6423 - val_loss: 0.6304\n",
      "Epoch 150/150\n",
      "\u001b[1m1267/1267\u001b[0m \u001b[32m━━━━━━━━━━━━━━━━━━━━\u001b[0m\u001b[37m\u001b[0m \u001b[1m1s\u001b[0m 736us/step - accuracy: 0.6349 - loss: 0.6372 - val_accuracy: 0.6437 - val_loss: 0.6306\n"
     ]
    }
   ],
   "source": [
    "r = model.fit(X_train, Y_train, validation_data=(X_valid, Y_valid), epochs=150)"
   ]
  },
  {
   "cell_type": "code",
   "execution_count": 44,
   "id": "77fc32ba-aaf1-4be5-981f-882d7b2607dd",
   "metadata": {},
   "outputs": [
    {
     "data": {
      "image/png": "[encoded data removed]",
      "text/plain": [
       "<Figure size 640x480 with 1 Axes>"
      ]
     },
     "metadata": {},
     "output_type": "display_data"
    }
   ],
   "source": [
    "plt.plot(r.history[\"accuracy\"], label=\"Train accuracy\")\n",
    "plt.plot(r.history[\"val_accuracy\"], label=\"Validation accuracy\")\n",
    "plt.title(\"Accuracy plot\")\n",
    "plt.legend();"
   ]
  },
  {
   "cell_type": "code",
   "execution_count": 45,
   "id": "7bfc5370-2c66-4f35-a158-06e7fcabe479",
   "metadata": {},
   "outputs": [
    {
     "data": {
      "image/png": "[encoded data removed]",
      "text/plain": [
       "<Figure size 640x480 with 1 Axes>"
      ]
     },
     "metadata": {},
     "output_type": "display_data"
    }
   ],
   "source": [
    "plt.plot(r.history[\"loss\"], label=\"Train loss\")\n",
    "plt.plot(r.history[\"val_loss\"], label=\"Validation loss\")\n",
    "plt.title(\"Loss plot\")\n",
    "plt.legend();"
   ]
  },
  {
   "cell_type": "code",
   "execution_count": 46,
   "id": "af983b8c-e445-4e05-809f-d6075b32133b",
   "metadata": {},
   "outputs": [
    {
     "name": "stdout",
     "output_type": "stream",
     "text": [
      "Train classification rate: 63.42%\n"
     ]
    }
   ],
   "source": [
    "print(f\"Train classification rate: {r.history['accuracy'][-1]*100:.02f}%\")"
   ]
  },
  {
   "cell_type": "code",
   "execution_count": 47,
   "id": "c183db37-f28e-41d8-8768-365b421c0e00",
   "metadata": {},
   "outputs": [
    {
     "name": "stdout",
     "output_type": "stream",
     "text": [
      "Train loss: 0.637031078338623%\n"
     ]
    }
   ],
   "source": [
    "print(f\"Train loss: {r.history['loss'][-1]}%\")"
   ]
  },
  {
   "cell_type": "code",
   "execution_count": 48,
   "id": "34dc156c-81cd-4c98-bb6f-625a60634128",
   "metadata": {},
   "outputs": [
    {
     "name": "stdout",
     "output_type": "stream",
     "text": [
      "\u001b[1m212/212\u001b[0m \u001b[32m━━━━━━━━━━━━━━━━━━━━\u001b[0m\u001b[37m\u001b[0m \u001b[1m0s\u001b[0m 578us/step - accuracy: 0.6436 - loss: 0.6321\n"
     ]
    }
   ],
   "source": [
    "evaluation = model.evaluate(X_test, Y_test)"
   ]
  },
  {
   "cell_type": "code",
   "execution_count": 49,
   "id": "e3ab1c20-11aa-4e97-a48e-6ca96561e523",
   "metadata": {},
   "outputs": [
    {
     "name": "stdout",
     "output_type": "stream",
     "text": [
      "Test classification rate: 64.18%\n"
     ]
    }
   ],
   "source": [
    "print(f\"Test classification rate: {evaluation[1] * 100:.02f}%\")"
   ]
  },
  {
   "cell_type": "code",
   "execution_count": 50,
   "id": "fbfc353b-564a-4b81-9d38-24d62c780c81",
   "metadata": {},
   "outputs": [
    {
     "name": "stdout",
     "output_type": "stream",
     "text": [
      "Test loss: 0.6358535885810852\n"
     ]
    }
   ],
   "source": [
    "print(f\"Test loss: {evaluation[0]}\")"
   ]
  },
  {
   "cell_type": "code",
   "execution_count": 51,
   "id": "ee38dabc-d352-4048-a6c8-9c1785b5d918",
   "metadata": {},
   "outputs": [
    {
     "name": "stdout",
     "output_type": "stream",
     "text": [
      "\u001b[1m212/212\u001b[0m \u001b[32m━━━━━━━━━━━━━━━━━━━━\u001b[0m\u001b[37m\u001b[0m \u001b[1m0s\u001b[0m 606us/step\n"
     ]
    }
   ],
   "source": [
    "Y_pred = np.round(model.predict(X_test))"
   ]
  },
  {
   "cell_type": "code",
   "execution_count": 52,
   "id": "302440c6-fb44-4bb9-b1d9-8bb7f3c903e6",
   "metadata": {},
   "outputs": [],
   "source": [
    "confusion_matrix = confusion_matrix(Y_pred, Y_test) "
   ]
  },
  {
   "cell_type": "code",
   "execution_count": 53,
   "id": "4f014588-3185-474f-8326-2156ba4715bb",
   "metadata": {},
   "outputs": [
    {
     "name": "stdout",
     "output_type": "stream",
     "text": [
      "[[1681 1081]\n",
      " [1338 2654]]\n"
     ]
    }
   ],
   "source": [
    "print(confusion_matrix)"
   ]
  }
 ],
 "metadata": {
  "kernelspec": {
   "display_name": "Python 3 (ipykernel)",
   "language": "python",
   "name": "python3"
  },
  "language_info": {
   "codemirror_mode": {
    "name": "ipython",
    "version": 3
   },
   "file_extension": ".py",
   "mimetype": "text/x-python",
   "name": "python",
   "nbconvert_exporter": "python",
   "pygments_lexer": "ipython3",
   "version": "3.10.7"
  }
 },
 "nbformat": 4,
 "nbformat_minor": 5
}
